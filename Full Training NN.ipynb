{
 "cells": [
  {
   "cell_type": "markdown",
   "id": "35aa2f7b-9bb4-4708-b7f1-211c402d8b74",
   "metadata": {},
   "source": [
    "## Training using Neural Networks"
   ]
  },
  {
   "cell_type": "code",
   "execution_count": 1,
   "id": "f82d3415-1e64-4524-bd27-b6a8cc3370c6",
   "metadata": {},
   "outputs": [],
   "source": [
    "import numpy as np\n",
    "import datetime as dt\n",
    "import pandas as pd\n",
    "\n",
    "import matplotlib.pyplot as plt\n",
    "import seaborn as sns\n",
    "\n",
    "import tensorflow as tf\n",
    "from tensorflow import keras\n",
    "from tensorflow.keras.models import Sequential\n",
    "from tensorflow.keras.layers import Dense, Conv1D, MaxPooling1D, BatchNormalization, Activation, Dropout, Flatten\n",
    "from tensorflow.keras.callbacks import ModelCheckpoint\n",
    "from tensorflow.keras import optimizers\n",
    "from sklearn.metrics import mean_squared_error\n",
    "\n",
    "import warnings\n",
    "warnings.filterwarnings('ignore')"
   ]
  },
  {
   "cell_type": "code",
   "execution_count": 2,
   "id": "53b08041-b781-4ea2-8b98-90814bc635fd",
   "metadata": {},
   "outputs": [],
   "source": [
    "train_df = pd.read_pickle(r'train_feat.pkl')\n",
    "test_df = pd.read_pickle(r'test_feat.pkl')"
   ]
  },
  {
   "cell_type": "code",
   "execution_count": 3,
   "id": "172b1993-92e2-4495-8f44-76022b4d1137",
   "metadata": {},
   "outputs": [],
   "source": [
    "test_raw = pd.read_pickle(r'test_df.pkl')\n",
    "test_raw[\"totals.transactionRevenue\"] = test_raw[\"totals.transactionRevenue\"].astype('float')\n",
    "test_raw['totals.transactions'].fillna(0, inplace=True)\n",
    "true_rev = test_raw.groupby('fullVisitorId')[[\"totals.transactionRevenue\"]].sum().apply(np.log1p, axis=1).reset_index()"
   ]
  },
  {
   "cell_type": "code",
   "execution_count": 4,
   "id": "22795445-3bdc-4774-b993-82e1494922fe",
   "metadata": {},
   "outputs": [],
   "source": [
    "target = ['fullVisitorId', 'revisit', 'trans_revenue']"
   ]
  },
  {
   "cell_type": "code",
   "execution_count": 22,
   "id": "57a4d087-05e2-4e63-9f7a-9b312be060a1",
   "metadata": {},
   "outputs": [],
   "source": [
    "train_clf = train_df.drop(target, axis=1)\n",
    "test = test_df.drop(target, axis=1)"
   ]
  },
  {
   "cell_type": "markdown",
   "id": "30f1eacf-3e0d-455a-8493-1a313af55ddc",
   "metadata": {},
   "source": [
    "### Using MLP Architecture"
   ]
  },
  {
   "cell_type": "markdown",
   "id": "0024c870-109a-4718-b1b6-d072428c5641",
   "metadata": {},
   "source": [
    "#### Building & Training MLP for Classification"
   ]
  },
  {
   "cell_type": "code",
   "execution_count": 6,
   "id": "13cc59d2-3e4e-4d2a-b602-a94697903de6",
   "metadata": {},
   "outputs": [],
   "source": [
    "batch_size = 64\n",
    "epochs = 100\n",
    "learning_rate = 0.0003"
   ]
  },
  {
   "cell_type": "code",
   "execution_count": 11,
   "id": "2b1919a1-817a-4ce7-bb21-adf385212eed",
   "metadata": {},
   "outputs": [],
   "source": [
    "clf = Sequential()\n",
    "clf.add(Dense(256, kernel_initializer='glorot_normal', activation='relu', input_dim=35))\n",
    "clf.add(Dense(128, kernel_initializer='glorot_normal', activation='relu'))\n",
    "clf.add(Dense(1, activation='sigmoid'))"
   ]
  },
  {
   "cell_type": "code",
   "execution_count": 12,
   "id": "c92f8ff8-e90a-4bd5-9407-dded01d40012",
   "metadata": {},
   "outputs": [],
   "source": [
    "opt = optimizers.Adam(lr = learning_rate)\n",
    "clf.compile(loss='binary_crossentropy', optimizer=opt)"
   ]
  },
  {
   "cell_type": "code",
   "execution_count": 13,
   "id": "b3cee8e7-02f1-40e2-8f65-fd1b6eeef913",
   "metadata": {},
   "outputs": [
    {
     "name": "stdout",
     "output_type": "stream",
     "text": [
      "Model: \"sequential_1\"\n",
      "_________________________________________________________________\n",
      "Layer (type)                 Output Shape              Param #   \n",
      "=================================================================\n",
      "dense_3 (Dense)              (None, 256)               9216      \n",
      "_________________________________________________________________\n",
      "dense_4 (Dense)              (None, 128)               32896     \n",
      "_________________________________________________________________\n",
      "dense_5 (Dense)              (None, 1)                 129       \n",
      "=================================================================\n",
      "Total params: 42,241\n",
      "Trainable params: 42,241\n",
      "Non-trainable params: 0\n",
      "_________________________________________________________________\n"
     ]
    }
   ],
   "source": [
    "clf.summary()"
   ]
  },
  {
   "cell_type": "code",
   "execution_count": 14,
   "id": "bb9d7d03-d5f6-4d5b-8cee-352c3f83fcbe",
   "metadata": {},
   "outputs": [
    {
     "name": "stdout",
     "output_type": "stream",
     "text": [
      "Epoch 1/15\n",
      "26693/26693 [==============================] - 52s 2ms/step - loss: 1.8541\n",
      "Epoch 2/15\n",
      "26693/26693 [==============================] - 47s 2ms/step - loss: 0.0718\n",
      "Epoch 3/15\n",
      "26693/26693 [==============================] - 47s 2ms/step - loss: 0.0512\n",
      "Epoch 4/15\n",
      "26693/26693 [==============================] - 49s 2ms/step - loss: 0.0499\n",
      "Epoch 5/15\n",
      "26693/26693 [==============================] - 48s 2ms/step - loss: 0.0491\n",
      "Epoch 6/15\n",
      "26693/26693 [==============================] - 50s 2ms/step - loss: 0.0485\n",
      "Epoch 7/15\n",
      "26693/26693 [==============================] - 41s 2ms/step - loss: 0.0480\n",
      "Epoch 8/15\n",
      "26693/26693 [==============================] - 35s 1ms/step - loss: 0.0476\n",
      "Epoch 9/15\n",
      "26693/26693 [==============================] - 40s 2ms/step - loss: 0.0477\n",
      "Epoch 10/15\n",
      "26693/26693 [==============================] - 48s 2ms/step - loss: 0.0474\n",
      "Epoch 11/15\n",
      "26693/26693 [==============================] - 46s 2ms/step - loss: 0.0471\n",
      "Epoch 12/15\n",
      "26693/26693 [==============================] - 45s 2ms/step - loss: 0.0472\n",
      "Epoch 13/15\n",
      "26693/26693 [==============================] - 48s 2ms/step - loss: 0.0469\n",
      "Epoch 14/15\n",
      "26693/26693 [==============================] - 48s 2ms/step - loss: 0.0469\n",
      "Epoch 15/15\n",
      "26693/26693 [==============================] - 47s 2ms/step - loss: 0.0465\n"
     ]
    }
   ],
   "source": [
    "history = clf.fit(x = np.asarray(train_clf).astype(np.float32), y = train_df['revisit'],\n",
    "                    batch_size = batch_size, epochs=15, verbose=1)"
   ]
  },
  {
   "cell_type": "markdown",
   "id": "a656f6cd-af0a-4439-b2ab-b2c82ea0aade",
   "metadata": {},
   "source": [
    "#### Building & Training MLP for Regression"
   ]
  },
  {
   "cell_type": "code",
   "execution_count": 23,
   "id": "1e0b0251-1b28-4dd8-b870-c06a11918607",
   "metadata": {},
   "outputs": [],
   "source": [
    "train_reg = train_df.drop(target, axis=1)[train_df['revisit']==1]"
   ]
  },
  {
   "cell_type": "code",
   "execution_count": 17,
   "id": "be73cecb-5725-4911-bd95-f09e17abeded",
   "metadata": {},
   "outputs": [],
   "source": [
    "reg = Sequential()\n",
    "reg.add(Dense(256, kernel_initializer='glorot_normal', activation='relu', input_dim=35))\n",
    "reg.add(Dense(128, kernel_initializer='glorot_normal', activation='relu'))\n",
    "reg.add(Dense(1))"
   ]
  },
  {
   "cell_type": "code",
   "execution_count": 18,
   "id": "ea000eb7-c6ac-40d0-add9-653ef2ec4067",
   "metadata": {},
   "outputs": [],
   "source": [
    "opt = optimizers.Adam(lr=learning_rate)\n",
    "reg.compile(loss='mse', optimizer=opt)"
   ]
  },
  {
   "cell_type": "code",
   "execution_count": 19,
   "id": "f8c46830-86dd-4cf4-af2c-2ea98a5285d3",
   "metadata": {},
   "outputs": [
    {
     "name": "stdout",
     "output_type": "stream",
     "text": [
      "Model: \"sequential_2\"\n",
      "_________________________________________________________________\n",
      "Layer (type)                 Output Shape              Param #   \n",
      "=================================================================\n",
      "dense_6 (Dense)              (None, 256)               9216      \n",
      "_________________________________________________________________\n",
      "dense_7 (Dense)              (None, 128)               32896     \n",
      "_________________________________________________________________\n",
      "dense_8 (Dense)              (None, 1)                 129       \n",
      "=================================================================\n",
      "Total params: 42,241\n",
      "Trainable params: 42,241\n",
      "Non-trainable params: 0\n",
      "_________________________________________________________________\n"
     ]
    }
   ],
   "source": [
    "reg.summary()"
   ]
  },
  {
   "cell_type": "code",
   "execution_count": 20,
   "id": "a2301912-6ee7-4c40-a575-e1709ee2c385",
   "metadata": {},
   "outputs": [
    {
     "name": "stdout",
     "output_type": "stream",
     "text": [
      "Epoch 1/100\n",
      "433/433 [==============================] - 1s 2ms/step - loss: 138470.1719\n",
      "Epoch 2/100\n",
      "433/433 [==============================] - 1s 2ms/step - loss: 88112.7578\n",
      "Epoch 3/100\n",
      "433/433 [==============================] - 1s 2ms/step - loss: 19778.9434\n",
      "Epoch 4/100\n",
      "433/433 [==============================] - 1s 2ms/step - loss: 3949.0525\n",
      "Epoch 5/100\n",
      "433/433 [==============================] - 1s 2ms/step - loss: 10952.3193\n",
      "Epoch 6/100\n",
      "433/433 [==============================] - 1s 2ms/step - loss: 23476.0156\n",
      "Epoch 7/100\n",
      "433/433 [==============================] - 1s 2ms/step - loss: 3543.0352\n",
      "Epoch 8/100\n",
      "433/433 [==============================] - 1s 2ms/step - loss: 14564.0693\n",
      "Epoch 9/100\n",
      "433/433 [==============================] - 1s 2ms/step - loss: 21842.8086\n",
      "Epoch 10/100\n",
      "433/433 [==============================] - 1s 2ms/step - loss: 21039.9805\n",
      "Epoch 11/100\n",
      "433/433 [==============================] - 1s 2ms/step - loss: 7349.8794\n",
      "Epoch 12/100\n",
      "433/433 [==============================] - 1s 2ms/step - loss: 82735.9531\n",
      "Epoch 13/100\n",
      "433/433 [==============================] - 1s 2ms/step - loss: 167.9977\n",
      "Epoch 14/100\n",
      "433/433 [==============================] - 1s 2ms/step - loss: 106.8516\n",
      "Epoch 15/100\n",
      "433/433 [==============================] - 1s 2ms/step - loss: 84.8284\n",
      "Epoch 16/100\n",
      "433/433 [==============================] - 1s 2ms/step - loss: 159.4383\n",
      "Epoch 17/100\n",
      "433/433 [==============================] - 1s 2ms/step - loss: 6800.4521\n",
      "Epoch 18/100\n",
      "433/433 [==============================] - 1s 2ms/step - loss: 28873.7656\n",
      "Epoch 19/100\n",
      "433/433 [==============================] - 1s 2ms/step - loss: 1397.7933\n",
      "Epoch 20/100\n",
      "433/433 [==============================] - 1s 2ms/step - loss: 654.8345\n",
      "Epoch 21/100\n",
      "433/433 [==============================] - 1s 2ms/step - loss: 30892.3789\n",
      "Epoch 22/100\n",
      "433/433 [==============================] - 1s 2ms/step - loss: 1488.6261\n",
      "Epoch 23/100\n",
      "433/433 [==============================] - 1s 2ms/step - loss: 136817.9688\n",
      "Epoch 24/100\n",
      "433/433 [==============================] - 1s 2ms/step - loss: 15457.7227\n",
      "Epoch 25/100\n",
      "433/433 [==============================] - 1s 2ms/step - loss: 118.2041\n",
      "Epoch 26/100\n",
      "433/433 [==============================] - 1s 2ms/step - loss: 65.3731\n",
      "Epoch 27/100\n",
      "433/433 [==============================] - 1s 2ms/step - loss: 66.8621\n",
      "Epoch 28/100\n",
      "433/433 [==============================] - 1s 2ms/step - loss: 41.7553\n",
      "Epoch 29/100\n",
      "433/433 [==============================] - 1s 2ms/step - loss: 175.5334\n",
      "Epoch 30/100\n",
      "433/433 [==============================] - 1s 2ms/step - loss: 59.9626\n",
      "Epoch 31/100\n",
      "433/433 [==============================] - 1s 3ms/step - loss: 1396.7239\n",
      "Epoch 32/100\n",
      "433/433 [==============================] - 1s 3ms/step - loss: 27011.2734\n",
      "Epoch 33/100\n",
      "433/433 [==============================] - 1s 3ms/step - loss: 50.2812\n",
      "Epoch 34/100\n",
      "433/433 [==============================] - 1s 2ms/step - loss: 297.6234\n",
      "Epoch 35/100\n",
      "433/433 [==============================] - 1s 1ms/step - loss: 207.0944\n",
      "Epoch 36/100\n",
      "433/433 [==============================] - 1s 2ms/step - loss: 6591.5894\n",
      "Epoch 37/100\n",
      "433/433 [==============================] - 1s 2ms/step - loss: 6787.8198\n",
      "Epoch 38/100\n",
      "433/433 [==============================] - 1s 2ms/step - loss: 72.7838\n",
      "Epoch 39/100\n",
      "433/433 [==============================] - 1s 2ms/step - loss: 14412.6191\n",
      "Epoch 40/100\n",
      "433/433 [==============================] - 1s 2ms/step - loss: 283.2192\n",
      "Epoch 41/100\n",
      "433/433 [==============================] - 1s 2ms/step - loss: 3820.2229\n",
      "Epoch 42/100\n",
      "433/433 [==============================] - 1s 1ms/step - loss: 274.7394\n",
      "Epoch 43/100\n",
      "433/433 [==============================] - 1s 1ms/step - loss: 7933.3555\n",
      "Epoch 44/100\n",
      "433/433 [==============================] - 1s 1ms/step - loss: 2027.1327\n",
      "Epoch 45/100\n",
      "433/433 [==============================] - 1s 1ms/step - loss: 45.1290\n",
      "Epoch 46/100\n",
      "433/433 [==============================] - 1s 1ms/step - loss: 69.1331\n",
      "Epoch 47/100\n",
      "433/433 [==============================] - 1s 1ms/step - loss: 24560.6797\n",
      "Epoch 48/100\n",
      "433/433 [==============================] - 1s 1ms/step - loss: 58.5076\n",
      "Epoch 49/100\n",
      "433/433 [==============================] - 1s 1ms/step - loss: 37.8276\n",
      "Epoch 50/100\n",
      "433/433 [==============================] - 1s 1ms/step - loss: 118.6191\n",
      "Epoch 51/100\n",
      "433/433 [==============================] - 1s 1ms/step - loss: 46.8669\n",
      "Epoch 52/100\n",
      "433/433 [==============================] - 1s 1ms/step - loss: 3294.9561\n",
      "Epoch 53/100\n",
      "433/433 [==============================] - 1s 1ms/step - loss: 49.1366\n",
      "Epoch 54/100\n",
      "433/433 [==============================] - 1s 1ms/step - loss: 3336.7375\n",
      "Epoch 55/100\n",
      "433/433 [==============================] - 1s 1ms/step - loss: 3827.1653\n",
      "Epoch 56/100\n",
      "433/433 [==============================] - 1s 1ms/step - loss: 28.3947\n",
      "Epoch 57/100\n",
      "433/433 [==============================] - 1s 2ms/step - loss: 146.0533\n",
      "Epoch 58/100\n",
      "433/433 [==============================] - 1s 1ms/step - loss: 1574.8326\n",
      "Epoch 59/100\n",
      "433/433 [==============================] - 1s 1ms/step - loss: 1593.4341\n",
      "Epoch 60/100\n",
      "433/433 [==============================] - 1s 1ms/step - loss: 695.1492\n",
      "Epoch 61/100\n",
      "433/433 [==============================] - 1s 1ms/step - loss: 202.7391\n",
      "Epoch 62/100\n",
      "433/433 [==============================] - 1s 1ms/step - loss: 5125.6353\n",
      "Epoch 63/100\n",
      "433/433 [==============================] - 1s 1ms/step - loss: 69.9723\n",
      "Epoch 64/100\n",
      "433/433 [==============================] - 1s 1ms/step - loss: 123.1131\n",
      "Epoch 65/100\n",
      "433/433 [==============================] - 1s 1ms/step - loss: 888.9176\n",
      "Epoch 66/100\n",
      "433/433 [==============================] - 1s 1ms/step - loss: 40.3456\n",
      "Epoch 67/100\n",
      "433/433 [==============================] - 1s 1ms/step - loss: 2927.0889\n",
      "Epoch 68/100\n",
      "433/433 [==============================] - 1s 1ms/step - loss: 217.3334\n",
      "Epoch 69/100\n",
      "433/433 [==============================] - 1s 1ms/step - loss: 1046.1606\n",
      "Epoch 70/100\n",
      "433/433 [==============================] - 1s 1ms/step - loss: 54.9414\n",
      "Epoch 71/100\n",
      "433/433 [==============================] - 1s 1ms/step - loss: 11328.2705\n",
      "Epoch 72/100\n",
      "433/433 [==============================] - 1s 1ms/step - loss: 30.5458\n",
      "Epoch 73/100\n",
      "433/433 [==============================] - 1s 1ms/step - loss: 28.3818\n",
      "Epoch 74/100\n",
      "433/433 [==============================] - 1s 1ms/step - loss: 31.9300\n",
      "Epoch 75/100\n",
      "433/433 [==============================] - 1s 1ms/step - loss: 81.5225\n",
      "Epoch 76/100\n",
      "433/433 [==============================] - 1s 1ms/step - loss: 169.7195\n",
      "Epoch 77/100\n",
      "433/433 [==============================] - 1s 1ms/step - loss: 223.1593\n",
      "Epoch 78/100\n",
      "433/433 [==============================] - 1s 1ms/step - loss: 1872.8099\n",
      "Epoch 79/100\n",
      "433/433 [==============================] - 1s 1ms/step - loss: 47.5646\n",
      "Epoch 80/100\n",
      "433/433 [==============================] - 1s 1ms/step - loss: 63.1316\n",
      "Epoch 81/100\n",
      "433/433 [==============================] - 1s 1ms/step - loss: 1998.3109\n",
      "Epoch 82/100\n",
      "433/433 [==============================] - 1s 1ms/step - loss: 38.5634\n",
      "Epoch 83/100\n",
      "433/433 [==============================] - 1s 1ms/step - loss: 28.7154\n",
      "Epoch 84/100\n",
      "433/433 [==============================] - 1s 1ms/step - loss: 11056.6904\n",
      "Epoch 85/100\n",
      "433/433 [==============================] - 1s 1ms/step - loss: 24.4334\n",
      "Epoch 86/100\n",
      "433/433 [==============================] - 1s 1ms/step - loss: 21.8936\n",
      "Epoch 87/100\n",
      "433/433 [==============================] - 1s 1ms/step - loss: 20.7958\n",
      "Epoch 88/100\n",
      "433/433 [==============================] - 1s 2ms/step - loss: 26.1243\n",
      "Epoch 89/100\n",
      "433/433 [==============================] - 1s 2ms/step - loss: 28.1119\n",
      "Epoch 90/100\n",
      "433/433 [==============================] - 1s 2ms/step - loss: 24.0125\n",
      "Epoch 91/100\n",
      "433/433 [==============================] - 1s 2ms/step - loss: 48.4062\n",
      "Epoch 92/100\n",
      "433/433 [==============================] - 1s 1ms/step - loss: 135.7074\n",
      "Epoch 93/100\n",
      "433/433 [==============================] - 1s 1ms/step - loss: 812.4850\n",
      "Epoch 94/100\n",
      "433/433 [==============================] - 1s 2ms/step - loss: 39.3949\n",
      "Epoch 95/100\n",
      "433/433 [==============================] - 1s 1ms/step - loss: 86.3029\n",
      "Epoch 96/100\n",
      "433/433 [==============================] - 1s 1ms/step - loss: 290.3833\n",
      "Epoch 97/100\n",
      "433/433 [==============================] - 1s 1ms/step - loss: 148.7955\n",
      "Epoch 98/100\n",
      "433/433 [==============================] - 1s 1ms/step - loss: 137.0950\n",
      "Epoch 99/100\n",
      "433/433 [==============================] - 1s 1ms/step - loss: 517.7648\n",
      "Epoch 100/100\n",
      "433/433 [==============================] - 1s 1ms/step - loss: 24.9206\n"
     ]
    }
   ],
   "source": [
    "history = reg.fit(x = np.asarray(train_reg).astype(np.float32), y = train_df['trans_revenue'][train_df['revisit']==1],\n",
    "                    batch_size = batch_size, epochs = epochs, verbose = 1)"
   ]
  },
  {
   "cell_type": "markdown",
   "id": "e8cbb23a-9530-4ddb-aa98-4dc22ee4d8ff",
   "metadata": {},
   "source": [
    "#### Calculating Final Predictions"
   ]
  },
  {
   "cell_type": "code",
   "execution_count": 24,
   "id": "5f146fb6-bee9-4407-b054-bf1c4c0e8fb0",
   "metadata": {},
   "outputs": [],
   "source": [
    "clf_pred = clf.predict(np.asarray(test).astype(np.float32))\n",
    "reg_pred = reg.predict(np.asarray(test).astype(np.float32))\n",
    "reg_pred[reg_pred < 0] = 0\n",
    "\n",
    "final_pred = clf_pred * reg_pred"
   ]
  },
  {
   "cell_type": "code",
   "execution_count": 25,
   "id": "abd73854-1781-4f91-b92d-8f5cd3e4d804",
   "metadata": {},
   "outputs": [],
   "source": [
    "pred_df = pd.DataFrame({\"fullVisitorId\":test_df[\"fullVisitorId\"].values})\n",
    "pred_df[\"PredictedLogRevenue\"] = final_pred\n",
    "pred_df.columns = [\"fullVisitorId\", \"PredictedLogRevenue\"]"
   ]
  },
  {
   "cell_type": "markdown",
   "id": "f5158302-de6f-4211-8c48-cb76c2bd04bd",
   "metadata": {},
   "source": [
    "#### RMSE"
   ]
  },
  {
   "cell_type": "code",
   "execution_count": 27,
   "id": "91a44524-ad93-46ee-a00e-7e08815769bc",
   "metadata": {},
   "outputs": [
    {
     "name": "stdout",
     "output_type": "stream",
     "text": [
      "RMSE: 2.288\n"
     ]
    }
   ],
   "source": [
    "res = pd.merge(pred_df, true_rev , left_on='fullVisitorId', right_on='fullVisitorId') \n",
    "rms = np.sqrt(mean_squared_error(res['totals.transactionRevenue'], res['PredictedLogRevenue']))\n",
    "print(\"RMSE: %.3f\" %rms)"
   ]
  },
  {
   "cell_type": "markdown",
   "id": "2681a3bc-eebf-4a2e-ae51-ef5047cc464d",
   "metadata": {},
   "source": [
    "### Using CNN Architecture"
   ]
  },
  {
   "cell_type": "markdown",
   "id": "f5b8bf46-465c-4065-b0ac-5ef49d462017",
   "metadata": {
    "tags": []
   },
   "source": [
    "#### Building & Training CNN for Classification"
   ]
  },
  {
   "cell_type": "code",
   "execution_count": 6,
   "id": "c97dbf65-b078-4e0d-ba2c-78cc1a81e5fc",
   "metadata": {},
   "outputs": [],
   "source": [
    "n_feat = 1\n",
    "n_steps = 35\n",
    "batch_size = 64"
   ]
  },
  {
   "cell_type": "code",
   "execution_count": 7,
   "id": "2b2db43b-60ec-4cc9-ad90-58a5bfc135a8",
   "metadata": {},
   "outputs": [],
   "source": [
    "train_clf = train_df.drop(target, axis=1)\n",
    "train_clf = train_clf.values.reshape((train_clf.shape[0], train_clf.shape[1], n_feat))\n",
    "\n",
    "test = test_df.drop(target, axis=1)\n",
    "test = test.values.reshape((test.shape[0], test.shape[1], n_feat))"
   ]
  },
  {
   "cell_type": "code",
   "execution_count": 8,
   "id": "e6cb9a1a-f9df-40ca-93fd-e0573b153ff7",
   "metadata": {},
   "outputs": [],
   "source": [
    "clf = keras.Sequential([\n",
    "                        keras.layers.Conv1D(filters=64, kernel_size=2, activation='relu', input_shape=(n_steps, n_feat)),\n",
    "                        keras.layers.MaxPooling1D(pool_size=2),\n",
    "                        keras.layers.Flatten(),\n",
    "                        keras.layers.Dense(50, activation='relu'),\n",
    "                        keras.layers.Dense(1,activation='sigmoid')\n",
    "                        ])\n",
    "\n",
    "clf.compile(optimizer='adam', loss='binary_crossentropy')"
   ]
  },
  {
   "cell_type": "code",
   "execution_count": 9,
   "id": "e0d1da17-7b10-4080-8089-ce29e7fc81a1",
   "metadata": {},
   "outputs": [
    {
     "name": "stdout",
     "output_type": "stream",
     "text": [
      "Model: \"sequential\"\n",
      "_________________________________________________________________\n",
      "Layer (type)                 Output Shape              Param #   \n",
      "=================================================================\n",
      "conv1d (Conv1D)              (None, 34, 64)            192       \n",
      "_________________________________________________________________\n",
      "max_pooling1d (MaxPooling1D) (None, 17, 64)            0         \n",
      "_________________________________________________________________\n",
      "flatten (Flatten)            (None, 1088)              0         \n",
      "_________________________________________________________________\n",
      "dense (Dense)                (None, 50)                54450     \n",
      "_________________________________________________________________\n",
      "dense_1 (Dense)              (None, 1)                 51        \n",
      "=================================================================\n",
      "Total params: 54,693\n",
      "Trainable params: 54,693\n",
      "Non-trainable params: 0\n",
      "_________________________________________________________________\n"
     ]
    }
   ],
   "source": [
    "clf.summary()"
   ]
  },
  {
   "cell_type": "code",
   "execution_count": 10,
   "id": "d644a21d-8678-44fc-ad80-f1f923163b03",
   "metadata": {},
   "outputs": [
    {
     "name": "stdout",
     "output_type": "stream",
     "text": [
      "Epoch 1/20\n",
      "26693/26693 [==============================] - 103s 4ms/step - loss: 0.4502\n",
      "Epoch 2/20\n",
      "26693/26693 [==============================] - 95s 4ms/step - loss: 0.0467\n",
      "Epoch 3/20\n",
      "26693/26693 [==============================] - 95s 4ms/step - loss: 0.0451\n",
      "Epoch 4/20\n",
      "26693/26693 [==============================] - 96s 4ms/step - loss: 0.0446\n",
      "Epoch 5/20\n",
      "26693/26693 [==============================] - 80s 3ms/step - loss: 0.0446\n",
      "Epoch 6/20\n",
      "26693/26693 [==============================] - 75s 3ms/step - loss: 0.0444\n",
      "Epoch 7/20\n",
      "26693/26693 [==============================] - 73s 3ms/step - loss: 0.0442\n",
      "Epoch 8/20\n",
      "26693/26693 [==============================] - 73s 3ms/step - loss: 0.0442\n",
      "Epoch 9/20\n",
      "26693/26693 [==============================] - 74s 3ms/step - loss: 0.0441\n",
      "Epoch 10/20\n",
      "26693/26693 [==============================] - 73s 3ms/step - loss: 0.0440\n",
      "Epoch 11/20\n",
      "26693/26693 [==============================] - 73s 3ms/step - loss: 0.0439\n",
      "Epoch 12/20\n",
      "26693/26693 [==============================] - 73s 3ms/step - loss: 0.0435\n",
      "Epoch 13/20\n",
      "26693/26693 [==============================] - 73s 3ms/step - loss: 0.0434\n",
      "Epoch 14/20\n",
      "26693/26693 [==============================] - 74s 3ms/step - loss: 0.0434\n",
      "Epoch 15/20\n",
      "26693/26693 [==============================] - 73s 3ms/step - loss: 0.0431\n",
      "Epoch 16/20\n",
      "26693/26693 [==============================] - 74s 3ms/step - loss: 0.0431\n",
      "Epoch 17/20\n",
      "26693/26693 [==============================] - 73s 3ms/step - loss: 0.0430\n",
      "Epoch 18/20\n",
      "26693/26693 [==============================] - 73s 3ms/step - loss: 0.0430\n",
      "Epoch 19/20\n",
      "26693/26693 [==============================] - 73s 3ms/step - loss: 0.0429\n",
      "Epoch 20/20\n",
      "26693/26693 [==============================] - 73s 3ms/step - loss: 0.0429\n"
     ]
    },
    {
     "data": {
      "text/plain": [
       "<tensorflow.python.keras.callbacks.History at 0x1c98a07c4c0>"
      ]
     },
     "execution_count": 10,
     "metadata": {},
     "output_type": "execute_result"
    }
   ],
   "source": [
    "clf.fit(x = np.asarray(train_clf).astype(np.float32), y = train_df['revisit'],\n",
    "                    batch_size=64, epochs=20)"
   ]
  },
  {
   "cell_type": "markdown",
   "id": "3da157c0-0e97-4d42-9442-11e85582ccd6",
   "metadata": {},
   "source": [
    "#### Building & Training CNN for Regression"
   ]
  },
  {
   "cell_type": "code",
   "execution_count": 11,
   "id": "b8028768-3355-4570-b830-57b82c31ba09",
   "metadata": {},
   "outputs": [],
   "source": [
    "train_reg = train_df.drop(target, axis=1)[train_df['revisit']==1]\n",
    "train_reg = train_reg.values.reshape((train_reg.shape[0], train_reg.shape[1], n_feat))"
   ]
  },
  {
   "cell_type": "code",
   "execution_count": 12,
   "id": "005567c0-d110-492b-8248-e2ea25382ea4",
   "metadata": {},
   "outputs": [],
   "source": [
    "reg = keras.Sequential([\n",
    "                        keras.layers.Conv1D(filters=64, kernel_size=2, activation='relu', input_shape=(n_steps, n_feat)),\n",
    "                        keras.layers.MaxPooling1D(pool_size=2),\n",
    "                        keras.layers.Flatten(),\n",
    "                        keras.layers.Dense(50, activation='relu'),\n",
    "                        keras.layers.Dense(1, activation='sigmoid')\n",
    "                        ])"
   ]
  },
  {
   "cell_type": "code",
   "execution_count": 13,
   "id": "41c4581b-46de-4ff5-9c01-312f2916661e",
   "metadata": {},
   "outputs": [],
   "source": [
    "reg.compile(optimizer='adam', loss='mse')"
   ]
  },
  {
   "cell_type": "code",
   "execution_count": 14,
   "id": "d9d86b65-fad7-4044-bb47-112059395e2d",
   "metadata": {},
   "outputs": [
    {
     "name": "stdout",
     "output_type": "stream",
     "text": [
      "Model: \"sequential_1\"\n",
      "_________________________________________________________________\n",
      "Layer (type)                 Output Shape              Param #   \n",
      "=================================================================\n",
      "conv1d_1 (Conv1D)            (None, 34, 64)            192       \n",
      "_________________________________________________________________\n",
      "max_pooling1d_1 (MaxPooling1 (None, 17, 64)            0         \n",
      "_________________________________________________________________\n",
      "flatten_1 (Flatten)          (None, 1088)              0         \n",
      "_________________________________________________________________\n",
      "dense_2 (Dense)              (None, 50)                54450     \n",
      "_________________________________________________________________\n",
      "dense_3 (Dense)              (None, 1)                 51        \n",
      "=================================================================\n",
      "Total params: 54,693\n",
      "Trainable params: 54,693\n",
      "Non-trainable params: 0\n",
      "_________________________________________________________________\n"
     ]
    }
   ],
   "source": [
    "reg.summary()"
   ]
  },
  {
   "cell_type": "markdown",
   "id": "10432898-2daa-41c2-802f-07e7ca385613",
   "metadata": {},
   "source": [
    "#### Calculating Final Predictions"
   ]
  },
  {
   "cell_type": "code",
   "execution_count": 15,
   "id": "e252200d-5ae4-4935-9614-cdc689631d1f",
   "metadata": {
    "tags": []
   },
   "outputs": [
    {
     "name": "stdout",
     "output_type": "stream",
     "text": [
      "Epoch 1/20\n",
      "433/433 [==============================] - 2s 4ms/step - loss: 31.5161\n",
      "Epoch 2/20\n",
      "433/433 [==============================] - 2s 4ms/step - loss: 31.5161\n",
      "Epoch 3/20\n",
      "433/433 [==============================] - 1s 3ms/step - loss: 31.5161\n",
      "Epoch 4/20\n",
      "433/433 [==============================] - 1s 3ms/step - loss: 31.5161\n",
      "Epoch 5/20\n",
      "433/433 [==============================] - 2s 3ms/step - loss: 31.5161\n",
      "Epoch 6/20\n",
      "433/433 [==============================] - 2s 3ms/step - loss: 31.5161\n",
      "Epoch 7/20\n",
      "433/433 [==============================] - 2s 4ms/step - loss: 31.5161\n",
      "Epoch 8/20\n",
      "433/433 [==============================] - 2s 3ms/step - loss: 31.5161\n",
      "Epoch 9/20\n",
      "433/433 [==============================] - 2s 3ms/step - loss: 31.5161\n",
      "Epoch 10/20\n",
      "433/433 [==============================] - 2s 3ms/step - loss: 31.5161\n",
      "Epoch 11/20\n",
      "433/433 [==============================] - 1s 3ms/step - loss: 31.5161\n",
      "Epoch 12/20\n",
      "433/433 [==============================] - 2s 4ms/step - loss: 31.5161\n",
      "Epoch 13/20\n",
      "433/433 [==============================] - 2s 4ms/step - loss: 31.5161\n",
      "Epoch 14/20\n",
      "433/433 [==============================] - 2s 4ms/step - loss: 31.5161\n",
      "Epoch 15/20\n",
      "433/433 [==============================] - 1s 3ms/step - loss: 31.5161\n",
      "Epoch 16/20\n",
      "433/433 [==============================] - 2s 4ms/step - loss: 31.5161\n",
      "Epoch 17/20\n",
      "433/433 [==============================] - 2s 3ms/step - loss: 31.5161\n",
      "Epoch 18/20\n",
      "433/433 [==============================] - 2s 4ms/step - loss: 31.5161\n",
      "Epoch 19/20\n",
      "433/433 [==============================] - 2s 4ms/step - loss: 31.5161\n",
      "Epoch 20/20\n",
      "433/433 [==============================] - 2s 4ms/step - loss: 31.5161\n"
     ]
    },
    {
     "data": {
      "text/plain": [
       "<tensorflow.python.keras.callbacks.History at 0x1ca2a6f8580>"
      ]
     },
     "execution_count": 15,
     "metadata": {},
     "output_type": "execute_result"
    }
   ],
   "source": [
    "reg.fit(x = np.asarray(train_reg).astype(np.float32), y = train_df['trans_revenue'][train_df['revisit']==1],\n",
    "                    batch_size=64, epochs=20)"
   ]
  },
  {
   "cell_type": "code",
   "execution_count": 16,
   "id": "89a678f6-fa92-4182-8c81-3713bd8ef602",
   "metadata": {},
   "outputs": [],
   "source": [
    "clf_pred = clf.predict(np.asarray(test).astype(np.float32))\n",
    "reg_pred = reg.predict(np.asarray(test).astype(np.float32))\n",
    "reg_pred[reg_pred < 0] = 0\n",
    "\n",
    "final_pred = clf_pred * reg_pred"
   ]
  },
  {
   "cell_type": "code",
   "execution_count": 17,
   "id": "f40ce122-4320-4a8d-8196-d4121213ef9d",
   "metadata": {},
   "outputs": [],
   "source": [
    "pred_df = pd.DataFrame({\"fullVisitorId\":test_df[\"fullVisitorId\"].values})\n",
    "pred_df[\"PredictedLogRevenue\"] = final_pred\n",
    "pred_df.columns = [\"fullVisitorId\", \"PredictedLogRevenue\"]"
   ]
  },
  {
   "cell_type": "markdown",
   "id": "77bfe0b2-ddb9-43c0-9ecb-2aa0a9704e6b",
   "metadata": {},
   "source": [
    "#### RMSE"
   ]
  },
  {
   "cell_type": "code",
   "execution_count": 18,
   "id": "3a51afb0-1f30-45cb-ac35-9dfd1aa320f0",
   "metadata": {},
   "outputs": [
    {
     "name": "stdout",
     "output_type": "stream",
     "text": [
      "RMSE: 2.114\n"
     ]
    }
   ],
   "source": [
    "res = pd.merge(pred_df, true_rev , left_on='fullVisitorId', right_on='fullVisitorId') \n",
    "rms = np.sqrt(mean_squared_error(res['totals.transactionRevenue'], res['PredictedLogRevenue']))\n",
    "print(\"RMSE: %.3f\" %rms)"
   ]
  },
  {
   "cell_type": "code",
   "execution_count": null,
   "id": "b70fd3e8-c3ca-4e1d-8799-b30a43e1ef3c",
   "metadata": {},
   "outputs": [],
   "source": []
  },
  {
   "cell_type": "code",
   "execution_count": null,
   "id": "7b3ed33e-9e44-4835-90fc-b2da990bc84a",
   "metadata": {},
   "outputs": [],
   "source": []
  },
  {
   "cell_type": "code",
   "execution_count": null,
   "id": "574eb391-84fc-4e3c-82cf-b46686d6faee",
   "metadata": {},
   "outputs": [],
   "source": []
  },
  {
   "cell_type": "code",
   "execution_count": null,
   "id": "968c2c63-4c23-4eaf-a7b6-d023e2ddcf3d",
   "metadata": {},
   "outputs": [],
   "source": []
  },
  {
   "cell_type": "code",
   "execution_count": null,
   "id": "6ae0bffa-6317-4f01-a49d-835b42b65ea1",
   "metadata": {},
   "outputs": [],
   "source": []
  },
  {
   "cell_type": "code",
   "execution_count": null,
   "id": "d563d9c4-1bfd-47af-8885-88cf48294c48",
   "metadata": {},
   "outputs": [],
   "source": []
  },
  {
   "cell_type": "code",
   "execution_count": null,
   "id": "c7dd8f6f-2178-4351-9e41-a3f460f4946b",
   "metadata": {},
   "outputs": [],
   "source": []
  },
  {
   "cell_type": "code",
   "execution_count": null,
   "id": "28b66a7d-869c-4920-8984-62b4a77fa3e0",
   "metadata": {},
   "outputs": [],
   "source": []
  },
  {
   "cell_type": "code",
   "execution_count": null,
   "id": "2dc3846b-2b96-48e9-98f8-5a8cdab9f295",
   "metadata": {},
   "outputs": [],
   "source": []
  }
 ],
 "metadata": {
  "kernelspec": {
   "display_name": "Python 3 (ipykernel)",
   "language": "python",
   "name": "python3"
  },
  "language_info": {
   "codemirror_mode": {
    "name": "ipython",
    "version": 3
   },
   "file_extension": ".py",
   "mimetype": "text/x-python",
   "name": "python",
   "nbconvert_exporter": "python",
   "pygments_lexer": "ipython3",
   "version": "3.9.5"
  }
 },
 "nbformat": 4,
 "nbformat_minor": 5
}
